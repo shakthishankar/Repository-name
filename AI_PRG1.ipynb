{
  "nbformat": 4,
  "nbformat_minor": 0,
  "metadata": {
    "colab": {
      "provenance": [],
      "authorship_tag": "ABX9TyOwQVq8uR7bZeOLxSMXBshB",
      "include_colab_link": true
    },
    "kernelspec": {
      "name": "python3",
      "display_name": "Python 3"
    },
    "language_info": {
      "name": "python"
    }
  },
  "cells": [
    {
      "cell_type": "markdown",
      "metadata": {
        "id": "view-in-github",
        "colab_type": "text"
      },
      "source": [
        "<a href=\"https://colab.research.google.com/github/shakthishankar/Repository-name/blob/main/AI_PRG1.ipynb\" target=\"_parent\"><img src=\"https://colab.research.google.com/assets/colab-badge.svg\" alt=\"Open In Colab\"/></a>"
      ]
    },
    {
      "cell_type": "code",
      "source": [
        "class State:\n",
        "    def __init__(self, jug1, jug2):\n",
        "        self.jug1 = jug1\n",
        "        self.jug2 = jug2\n",
        "\n",
        "    def __eq__(self, other):\n",
        "        return self.jug1 == other.jug1 and self.jug2 == other.jug2\n",
        "\n",
        "    def __hash__(self):\n",
        "        return hash((self.jug1, self.jug2))\n"
      ],
      "metadata": {
        "id": "XqxhYO5xyrwz"
      },
      "execution_count": 35,
      "outputs": []
    },
    {
      "cell_type": "code",
      "source": [
        "def dfs(current_state, target_state, visited):\n",
        "    if current_state == target_state:\n",
        "        return [current_state]\n",
        "\n",
        "    visited.add(current_state)\n",
        "    successors = get_successors(current_state)\n",
        "\n",
        "    for next_state in successors:\n",
        "        if next_state not in visited:\n",
        "            path = dfs(next_state, target_state, visited)\n",
        "            if path:\n",
        "                return [current_state] + path\n",
        "\n",
        "    return None\n"
      ],
      "metadata": {
        "id": "JdbphZDQzQON"
      },
      "execution_count": 18,
      "outputs": []
    },
    {
      "cell_type": "code",
      "execution_count": 19,
      "metadata": {
        "id": "oKvf6KQsqMbr"
      },
      "outputs": [],
      "source": [
        "def get_successors(state):\n",
        "    successors = []\n",
        "    successors.append(State(jug1=3, jug2=state.jug2))\n",
        "    successors.append(State(jug1=state.jug1, jug2=4))\n",
        "    successors.append(State(jug1=0, jug2=state.jug2))\n",
        "    successors.append(State(jug1=state.jug1, jug2=0))\n",
        "\n",
        "    pour_amount = min(state.jug1, 4 - state.jug2)\n",
        "    successors.append(State(jug1=state.jug1 - pour_amount, jug2=state.jug2 + pour_amount))\n",
        "\n",
        "    pour_amount = min(3 - state.jug1, state.jug2)\n",
        "    successors.append(State(jug1=state.jug1 + pour_amount, jug2=state.jug2 - pour_amount))\n",
        "\n",
        "    return successors\n"
      ]
    },
    {
      "cell_type": "code",
      "source": [
        "def print_solution(path):\n",
        "    print(\"Solution:\")\n",
        "    for i, state in enumerate(path):\n",
        "        print(f\"Step {i}: Jug 1 = {state.jug1}, Jug 2 = {state.jug2}\")\n"
      ],
      "metadata": {
        "id": "Uc2AcjU73leY"
      },
      "execution_count": 32,
      "outputs": []
    },
    {
      "cell_type": "code",
      "source": [
        "def main():\n",
        "    start_state = State(jug1=0, jug2=0)\n",
        "    target_state = State(jug1=2, jug2=0)\n",
        "    visited = set()\n",
        "    path = dfs(start_state, target_state, visited)\n",
        "\n",
        "    if path:\n",
        "      print_solution(path)\n",
        "    else:\n",
        "      print(\"No solution found\")\n",
        "\n",
        "if __name__ == \"__main__\":\n",
        "    main()\n"
      ],
      "metadata": {
        "colab": {
          "base_uri": "https://localhost:8080/"
        },
        "id": "PMDKANbmztO3",
        "outputId": "30ac49be-bc1d-43c7-d095-5fe56076220c"
      },
      "execution_count": 36,
      "outputs": [
        {
          "output_type": "stream",
          "name": "stdout",
          "text": [
            "Solution:\n",
            "Step 0: Jug 1 = 0, Jug 2 = 0\n",
            "Step 1: Jug 1 = 3, Jug 2 = 0\n",
            "Step 2: Jug 1 = 3, Jug 2 = 4\n",
            "Step 3: Jug 1 = 0, Jug 2 = 4\n",
            "Step 4: Jug 1 = 3, Jug 2 = 1\n",
            "Step 5: Jug 1 = 0, Jug 2 = 1\n",
            "Step 6: Jug 1 = 1, Jug 2 = 0\n",
            "Step 7: Jug 1 = 1, Jug 2 = 4\n",
            "Step 8: Jug 1 = 3, Jug 2 = 2\n",
            "Step 9: Jug 1 = 0, Jug 2 = 2\n",
            "Step 10: Jug 1 = 2, Jug 2 = 0\n"
          ]
        }
      ]
    },
    {
      "source": [
        "def print_solution(path):\n",
        "    for state in path:\n",
        "        print(state)"
      ],
      "cell_type": "code",
      "metadata": {
        "id": "KE3Mzw613jFW"
      },
      "execution_count": null,
      "outputs": []
    }
  ]
}